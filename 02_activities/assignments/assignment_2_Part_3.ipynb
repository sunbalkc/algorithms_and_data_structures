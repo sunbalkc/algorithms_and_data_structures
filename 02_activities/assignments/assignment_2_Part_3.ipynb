{
 "cells": [
  {
   "cell_type": "markdown",
   "id": "8de61ba3",
   "metadata": {},
   "source": [
    "## Part 3 of Sunbal Cheema's Assignmet 2\n",
    "\n",
    "**Assignment 1 By Shripad Tak**"
   ]
  },
  {
   "cell_type": "markdown",
   "id": "60aacfc1",
   "metadata": {},
   "source": [
    "*Paraphrase the problem in your own words.*\n",
    "\n",
    "In a string of  Brackets combinations from '(',')','{','}','['and ']'.\n",
    "Evaluate if the string is valid\n",
    "1. every bracket closes to corressponding\n",
    "2. brackets closed in correct order "
   ]
  },
  {
   "cell_type": "markdown",
   "id": "39b9628c",
   "metadata": {},
   "source": [
    "\n",
    "*Create 1 new example that demonstrates you understand the problem. Trace/walkthrough 1 example that your partner made and explain it.*"
   ]
  },
  {
   "cell_type": "markdown",
   "id": "58fb90a4",
   "metadata": {},
   "source": [
    "```python\n",
    "Input: s = \"([]){}\"\n",
    "Output: True\n",
    "```\n",
    "```python\n",
    "Input: s = \"{)(}\"\n",
    "Output: False"
   ]
  },
  {
   "cell_type": "markdown",
   "id": "a6803749",
   "metadata": {},
   "source": [
    "*Copy the solution your partner wrote.*"
   ]
  },
  {
   "cell_type": "code",
   "execution_count": 1,
   "id": "aaa06ef9",
   "metadata": {},
   "outputs": [],
   "source": [
    "def is_valid_brackets(s: str) -> bool:\n",
    "    stack = []\n",
    "    mapping = {')': '(', ']': '[', '}': '{'}\n",
    "        \n",
    "    for char in s:\n",
    "            if char in mapping.values():\n",
    "                stack.append(char)\n",
    "            elif char in mapping:\n",
    "                if not stack or stack[-1] != mapping[char]:\n",
    "                    return False\n",
    "                stack.pop()\n",
    "            else:\n",
    "                return False\n",
    "        \n",
    "    return len(stack) == 0\n",
    "   "
   ]
  },
  {
   "cell_type": "code",
   "execution_count": 2,
   "id": "3bc95e67",
   "metadata": {},
   "outputs": [
    {
     "name": "stdout",
     "output_type": "stream",
     "text": [
      "True\n"
     ]
    }
   ],
   "source": [
    "s = \"{[()]}\"\n",
    "result = is_valid_brackets(s)\n",
    "print(result)"
   ]
  },
  {
   "cell_type": "markdown",
   "id": "517cbe22",
   "metadata": {},
   "source": [
    "\n",
    "*Explain the problem’s time and space complexity in your own words.*"
   ]
  },
  {
   "cell_type": "markdown",
   "id": "9da480d9",
   "metadata": {},
   "source": [
    "This function checks whether all brackets in the string s are properly opened and closed in the correct order — i.e., it validates parentheses, square brackets, and curly braces.\n",
    "* stack keeps track of the most recent opening brackets\n",
    "* mapping defines which opening bracket corresponds to each closing bracket."
   ]
  },
  {
   "cell_type": "markdown",
   "id": "a9600cbf",
   "metadata": {},
   "source": [
    "*Explain Time and Space complexity in your own words*\n",
    "\n",
    "Time: O(n) → Each character processed once.\n",
    "\n",
    "Space: O(n) → Stack can hold all opening brackets in the worst case."
   ]
  },
  {
   "cell_type": "markdown",
   "id": "75004047",
   "metadata": {},
   "source": [
    "*Critique your partner's solution, including explanation, and if there is anything that should be adjusted.*\n",
    "\n",
    "Strength: Linear time and space is optimal for this problem.\n",
    "The code is readable but can be slightly improved:\n",
    "\n",
    "The else: return False is technically safe here, but if the input is guaranteed to contain only bracket characters, it is unnecessary.\n",
    "\n",
    "Adding docstrings or comments explaining the role of the stack and mapping would help someone new read the code faster."
   ]
  },
  {
   "cell_type": "markdown",
   "id": "f3c19344",
   "metadata": {},
   "source": [
    "### Reflection"
   ]
  },
  {
   "cell_type": "markdown",
   "id": "b1d665c7",
   "metadata": {},
   "source": [
    "Throughout Assignment 1, I approached the tasks methodically, beginning with a careful reading of the problem statements and understanding the expected outputs.  I tested each function using sample inputs to ensure correctness and handle edge cases, which helped identify and correct subtle logical errors early. \n",
    "During the presentation and review with my partner, I learned the value of collaboration and peer feedback. Receiving feedback also made me more aware of potential optimizations and the importance of readability in code. Overall, this assignment strengthened both my technical skills and my ability to communicate computational ideas effectively, which will be valuable in future collaborative projects."
   ]
  }
 ],
 "metadata": {
  "kernelspec": {
   "display_name": "dsi_participant",
   "language": "python",
   "name": "python3"
  },
  "language_info": {
   "codemirror_mode": {
    "name": "ipython",
    "version": 3
   },
   "file_extension": ".py",
   "mimetype": "text/x-python",
   "name": "python",
   "nbconvert_exporter": "python",
   "pygments_lexer": "ipython3",
   "version": "3.9.19"
  }
 },
 "nbformat": 4,
 "nbformat_minor": 5
}
